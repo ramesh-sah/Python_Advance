{
 "cells": [
  {
   "cell_type": "code",
   "execution_count": 7,
   "metadata": {},
   "outputs": [],
   "source": [
    "import numpy as np \n"
   ]
  },
  {
   "cell_type": "code",
   "execution_count": 8,
   "metadata": {},
   "outputs": [
    {
     "name": "stdout",
     "output_type": "stream",
     "text": [
      "[10 20 40 30]\n",
      "[10 20 40]\n",
      "[10 20 40 30]\n",
      "[30]\n",
      "[10 20 40]\n",
      "[40 30]\n"
     ]
    }
   ],
   "source": [
    "arr = np.array([10,20,40,30])\n",
    "print(arr)\n",
    "print(arr[0:3])\n",
    "print(arr[:4])\n",
    "print(arr[3:4])\n",
    "print(arr[:3])\n",
    "print(arr[2:])\n"
   ]
  },
  {
   "cell_type": "code",
   "execution_count": 11,
   "metadata": {},
   "outputs": [
    {
     "name": "stdout",
     "output_type": "stream",
     "text": [
      "[[10 20 30 40]\n",
      " [20 45 50 35]\n",
      " [34 45 56 56]]\n",
      "[[20 30]\n",
      " [45 50]\n",
      " [45 56]]\n",
      "(3, 4)\n",
      "12\n",
      "2\n",
      "int32\n"
     ]
    },
    {
     "ename": "",
     "evalue": "",
     "output_type": "error",
     "traceback": [
      "\u001b[1;31mThe Kernel crashed while executing code in the the current cell or a previous cell. Please review the code in the cell(s) to identify a possible cause of the failure. Click <a href='https://aka.ms/vscodeJupyterKernelCrash'>here</a> for more info. View Jupyter <a href='command:jupyter.viewOutput'>log</a> for further details."
     ]
    }
   ],
   "source": [
    "a = np.array([[10,20,30,40],[20,45,50, 35],[34,45,56,56]])\n",
    "print(a)\n",
    "print(a[0:3 ,1:3])\n",
    "print(np.shape(a))\n",
    "print(np.size(a))\n",
    "print(np.ndim(a))\n",
    "print(a.dtype)\n",
    "\n"
   ]
  }
 ],
 "metadata": {
  "kernelspec": {
   "display_name": "Python 3",
   "language": "python",
   "name": "python3"
  },
  "language_info": {
   "codemirror_mode": {
    "name": "ipython",
    "version": 3
   },
   "file_extension": ".py",
   "mimetype": "text/x-python",
   "name": "python",
   "nbconvert_exporter": "python",
   "pygments_lexer": "ipython3",
   "version": "3.11.4"
  }
 },
 "nbformat": 4,
 "nbformat_minor": 2
}
