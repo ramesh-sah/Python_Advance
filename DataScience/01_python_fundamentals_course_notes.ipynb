{
 "cells": [
  {
   "cell_type": "code",
   "execution_count": 2,
   "metadata": {},
   "outputs": [
    {
     "name": "stdout",
     "output_type": "stream",
     "text": [
      "Hello world\n"
     ]
    }
   ],
   "source": [
    "print(\"Hello world\")\n"
   ]
  },
  {
   "cell_type": "code",
   "execution_count": 4,
   "metadata": {},
   "outputs": [
    {
     "name": "stdout",
     "output_type": "stream",
     "text": [
      "I Love Python \n"
     ]
    }
   ],
   "source": [
    "#write your code to print \" I love Python\" below and run it \n",
    "print(\"I Love Python \")\n"
   ]
  },
  {
   "cell_type": "code",
   "execution_count": 6,
   "metadata": {},
   "outputs": [
    {
     "data": {
      "text/plain": [
       "' this is multi line comment \\nthis is another line of the comment \\nHere is another one . '"
      ]
     },
     "execution_count": 6,
     "metadata": {},
     "output_type": "execute_result"
    }
   ],
   "source": [
    "# this is a single line comment . Always comment your code \n",
    "\"\"\" this is multi line comment \n",
    "this is another line of the comment \n",
    "Here is another one . \"\"\"\n"
   ]
  },
  {
   "cell_type": "markdown",
   "metadata": {},
   "source": [
    "Python Variables \n",
    "variables are containers that hold data values. PLease look at hte examples of variables below."
   ]
  },
  {
   "cell_type": "code",
   "execution_count": 9,
   "metadata": {},
   "outputs": [
    {
     "name": "stdout",
     "output_type": "stream",
     "text": [
      "x= 2\n",
      "X= 5\n"
     ]
    }
   ],
   "source": [
    "x = 2 # the variable x holds the value 2 \n",
    " \n",
    "#variables re case - sensitive (ie. variables x and X are different )\n",
    "X = 5  #this variable x id different from x above \n",
    "\n",
    "# you will see that the value of x and X are different \n",
    "print(\"x=\",x)\n",
    "print(\"X=\",X)\n",
    "\n",
    "\n",
    "      "
   ]
  },
  {
   "cell_type": "code",
   "execution_count": 11,
   "metadata": {},
   "outputs": [
    {
     "name": "stdout",
     "output_type": "stream",
     "text": [
      "language: Python \n",
      "name John\n"
     ]
    }
   ],
   "source": [
    "#variables can hold string values as well , String needs to be enclosed inside a pair of single or double quotes. \n",
    "language = \"Python \" #string inside single quotes \n",
    "name = \"John\" #string inside double quotes \n",
    "\n",
    "#when you print variables, the values that they hold gets printed \n",
    "print('language:',language)\n",
    "print('name',name)"
   ]
  },
  {
   "cell_type": "code",
   "execution_count": 12,
   "metadata": {},
   "outputs": [],
   "source": [
    "#the code below will show an error when you run it \n",
    "#6name = \"Harry\" #variable name can not start with a number , so you will get an error \n"
   ]
  },
  {
   "cell_type": "code",
   "execution_count": 14,
   "metadata": {},
   "outputs": [
    {
     "name": "stdout",
     "output_type": "stream",
     "text": [
      "_age 25\n",
      "name6 sarah\n",
      "country Nepal\n",
      "Country USA\n"
     ]
    }
   ],
   "source": [
    "#the following variable names are valid \n",
    "_age = 25 \n",
    "name6= \"sarah\" #number can be anywhere after the first character \n",
    "n6ame = \"johnson\" #number can be anywhere after the first character \n",
    "#variable names are case-sensitive. So the following two variables are different although they have the same spelling \n",
    "country = \"Nepal\" \n",
    "Country = \"USA\"\n",
    "print(\"_age\",_age)\n",
    "print('name6',name6)\n",
    "print('country',country)\n",
    "print('Country',Country)"
   ]
  },
  {
   "cell_type": "code",
   "execution_count": 16,
   "metadata": {},
   "outputs": [
    {
     "name": "stdout",
     "output_type": "stream",
     "text": [
      "<class 'int'>\n",
      "<class 'float'>\n",
      "<class 'list'>\n",
      "<class 'set'>\n",
      "<class 'tuple'>\n",
      "<class 'range'>\n",
      "<class 'dict'>\n",
      "<class 'bool'>\n"
     ]
    }
   ],
   "source": [
    "#data types name = \"sam \" #str type (String) \n",
    "age = 25 #int type (integer )\n",
    "height = 2.45 #float type (floating point) \n",
    "fruits = [ 'Apple',\"Banana\",\"pear\"] #list type (use square brackets )\n",
    "countries = {\"china\",\"India\",\"Nepal\"} #set type (use curly braces )\n",
    "colors = ('red','green','blue') #tuple type (use parentheses )\n",
    "x = range(5) #range type \n",
    "my_info = { name:\"sam\",age :25} #dict type (key: value pairs inside a pair of curly braces )\n",
    "is_ok = True #boolean type (either true or false)\n",
    "\n",
    "print(type(age))\n",
    "print(type(height))\n",
    "print(type(fruits))\n",
    "print(type(countries))\n",
    "print(type(colors))\n",
    "print(type(x))\n",
    "print(type(my_info))\n",
    "print(type(is_ok))"
   ]
  },
  {
   "cell_type": "code",
   "execution_count": 19,
   "metadata": {},
   "outputs": [
    {
     "name": "stdout",
     "output_type": "stream",
     "text": [
      "<class 'int'>\n",
      "<class 'str'>\n",
      "<class 'float'>\n",
      "<class 'float'>\n"
     ]
    }
   ],
   "source": [
    "int_var= int(2.45) # int_var will contain the value int value2 (numbers after the decimal are discarded)\n",
    "str_var = str(45) #str_var will contain the value \"45\" in string form \n",
    "float_var = float(\"3.24\") #float_var will contain the value 3.14 in floating point format \n",
    "\n",
    "#you can simply assign the values to the variables and the type is automatically inferred \n",
    "int_var_auto = 4 \n",
    "str_var_auto= \"hello\"\n",
    "float_var_auto = 3.14\n",
    "print(type(int_var_auto))\n",
    "print(type(str_var_auto))\n",
    "print(type(float_var_auto))\n",
    "\n",
    "# lets convert int_var to float type \n",
    "int_var_to_float = float(int_var)\n",
    "print(type(int_var_to_float))\n"
   ]
  },
  {
   "cell_type": "code",
   "execution_count": 25,
   "metadata": {},
   "outputs": [
    {
     "data": {
      "text/plain": [
       "True"
      ]
     },
     "execution_count": 25,
     "metadata": {},
     "output_type": "execute_result"
    }
   ],
   "source": [
    "#python operators \n",
    "# arithemtic operators \n",
    "2+3\n",
    "3-5\n",
    "2*3\n",
    "5/2\n",
    "#modulus (%) -> this will give the reminder return \n",
    "4%3\n",
    "#exponentiation (**) or power \n",
    "2**3\n",
    "\n",
    "#comparison operators \n",
    "2==3\n",
    "2!=3\n",
    "2>3\n",
    "2<3\n",
    "2>=3\n",
    "2<=3"
   ]
  },
  {
   "cell_type": "code",
   "execution_count": 38,
   "metadata": {},
   "outputs": [
    {
     "name": "stdout",
     "output_type": "stream",
     "text": [
      "sunday\n",
      "thursday\n",
      "['monday', 'tuesday', 'wednesday']\n",
      "['sunday', 'monday', 'tuesday', 'wednesday', 'thursday', 'friday', 'saturday']\n"
     ]
    },
    {
     "data": {
      "text/plain": [
       "['sunday', 'mon', 'tue', 'wed', 'thursday', 'friday', 'saturday']"
      ]
     },
     "execution_count": 38,
     "metadata": {},
     "output_type": "execute_result"
    }
   ],
   "source": [
    "#python list \n",
    "#list is enclose in square brackets \n",
    "days_of_week = ['sunday','monday','tuesday','wednesday','thursday','friday','saturday']\n",
    "days_of_week\n",
    "len(days_of_week)\n",
    "my_list = [1,3.0,\"hello\", True]\n",
    "my_list\n",
    "#lets access the first item in the list . index 0 \n",
    "print(days_of_week[0])\n",
    "#third last item in the list,index - 3 \n",
    "print(days_of_week[-3])\n",
    "\n",
    "days_of_week_0_3=days_of_week[1:4] #returns a new list with the range of items selected \n",
    "print(days_of_week_0_3)\n",
    "print(days_of_week)\n",
    "days_of_week[:3] #indexes 0, 1,2 will be selected \n",
    "'saturday' in days_of_week\n",
    "'someday' in days_of_week\n",
    "\n",
    "days_of_week[1] = 'mon'\n",
    "days_of_week\n",
    "\n",
    "days_of_week[2:4]=['tue','wed']\n",
    "days_of_week\n"
   ]
  },
  {
   "cell_type": "code",
   "execution_count": 44,
   "metadata": {},
   "outputs": [
    {
     "data": {
      "text/plain": [
       "[1, 2, 3, 4, 200]"
      ]
     },
     "execution_count": 44,
     "metadata": {},
     "output_type": "execute_result"
    }
   ],
   "source": [
    "my_list = [1,2,3]\n",
    "my_list.insert(1,'inserted')\n",
    "my_list\n",
    "my_list=[1,2,3]\n",
    "my_list.append(4)\n",
    "my_list\n",
    "list_to_add =[100,200]\n",
    "my_list.extend(list_to_add)\n",
    "my_list #the added item are added to the end of the list \n",
    "my_list.remove(100)\n",
    "my_list"
   ]
  },
  {
   "cell_type": "code",
   "execution_count": 47,
   "metadata": {},
   "outputs": [
    {
     "data": {
      "text/plain": [
       "[1, 3, 4, 5, 3]"
      ]
     },
     "execution_count": 47,
     "metadata": {},
     "output_type": "execute_result"
    }
   ],
   "source": [
    "#if there are duplicates of the item to be removed only the first one of the items will be removed \n",
    "my_list = [1,2,3,4,5,2,3]\n",
    "my_list.remove(2)\n",
    "my_list\n",
    "my_list.remove(2) \n",
    "my_list\n"
   ]
  },
  {
   "cell_type": "code",
   "execution_count": 50,
   "metadata": {},
   "outputs": [
    {
     "data": {
      "text/plain": [
       "[1]"
      ]
     },
     "execution_count": 50,
     "metadata": {},
     "output_type": "execute_result"
    }
   ],
   "source": [
    "# remove item at a specified index \n",
    "#you can use pop() method to remove an item at a specified index \n",
    "my_list  = [1,2,3]\n",
    "my_list.pop(1)\n",
    "my_list\n",
    "my_list.pop()\n",
    "my_list"
   ]
  },
  {
   "cell_type": "code",
   "execution_count": 54,
   "metadata": {},
   "outputs": [
    {
     "data": {
      "text/plain": [
       "[]"
      ]
     },
     "execution_count": 54,
     "metadata": {},
     "output_type": "execute_result"
    }
   ],
   "source": [
    "#del keyword can also be used to remove an item at a specified index \n",
    "my_list = [1,2,3]\n",
    "del my_list[0]\n",
    "my_list\n",
    "my_list.clear() \n",
    "my_list"
   ]
  },
  {
   "cell_type": "code",
   "execution_count": 56,
   "metadata": {},
   "outputs": [
    {
     "data": {
      "text/plain": [
       "['apr', 'feb', 'jan', 'mar']"
      ]
     },
     "execution_count": 56,
     "metadata": {},
     "output_type": "execute_result"
    }
   ],
   "source": [
    "#sort list \n",
    "#you can sort a lsit alphanumerically using the sort() method. \n",
    "months_list = ['jan','feb','mar','apr']\n",
    "months_list.sort()\n",
    "months_list"
   ]
  },
  {
   "cell_type": "code",
   "execution_count": 58,
   "metadata": {},
   "outputs": [
    {
     "data": {
      "text/plain": [
       "[1970, 1986, 1999, 2011]"
      ]
     },
     "execution_count": 58,
     "metadata": {},
     "output_type": "execute_result"
    }
   ],
   "source": [
    "year_list = [1999, 1986,2011,1970]\n",
    "year_list.sort()\n",
    "year_list"
   ]
  },
  {
   "cell_type": "code",
   "execution_count": 60,
   "metadata": {},
   "outputs": [
    {
     "data": {
      "text/plain": [
       "[100, 63, 25, 5, 4, -1]"
      ]
     },
     "execution_count": 60,
     "metadata": {},
     "output_type": "execute_result"
    }
   ],
   "source": [
    "#for sorting by descending order , provide reverse = True argument to sort() \n",
    "num_list = [4,5,63,25,-1,100]\n",
    "num_list.sort(reverse=True)\n",
    "num_list"
   ]
  },
  {
   "cell_type": "code",
   "execution_count": 62,
   "metadata": {},
   "outputs": [
    {
     "data": {
      "text/plain": [
       "['Lahore', 'chicago', 'kathmandu', 'london', 'new year']"
      ]
     },
     "execution_count": 62,
     "metadata": {},
     "output_type": "execute_result"
    }
   ],
   "source": [
    "cities_list = [\"kathmandu\",\"london\",'chicago','new year', 'Lahore']\n",
    "cities_list.sort() \n",
    "cities_list"
   ]
  },
  {
   "cell_type": "code",
   "execution_count": 64,
   "metadata": {},
   "outputs": [
    {
     "data": {
      "text/plain": [
       "[5, 1, 4, 3]"
      ]
     },
     "execution_count": 64,
     "metadata": {},
     "output_type": "execute_result"
    }
   ],
   "source": [
    "#reverse order - you can use the reverse() method to reverse the order of items in the list . No sorting \n",
    "my_list = [3,4,1,5]\n",
    "my_list.reverse() \n",
    "my_list"
   ]
  },
  {
   "cell_type": "code",
   "execution_count": 67,
   "metadata": {},
   "outputs": [
    {
     "data": {
      "text/plain": [
       "[3, 4, 5]"
      ]
     },
     "execution_count": 67,
     "metadata": {},
     "output_type": "execute_result"
    }
   ],
   "source": [
    "#make a copy of a list \n",
    "list_1 = [1,2,3,\"hello\"]\n",
    "copy_of_list1 = list_1.copy() \n",
    "copy_of_list1\n",
    "#you can also copy a list using list() method \n",
    "my_list = [3,4,5]\n",
    "my_list_copy = list(my_list)\n",
    "my_list_copy"
   ]
  },
  {
   "cell_type": "code",
   "execution_count": 69,
   "metadata": {},
   "outputs": [
    {
     "data": {
      "text/plain": [
       "[1, 2, 3, 'hi', 'there']"
      ]
     },
     "execution_count": 69,
     "metadata": {},
     "output_type": "execute_result"
    }
   ],
   "source": [
    "#join lists - you can join two lists by simply using the + operator \n",
    "list_1 = [1,2,3]\n",
    "list_2=['hi','there']\n",
    "list_1.extend(list_2)\n",
    "list_1"
   ]
  },
  {
   "cell_type": "code",
   "execution_count": 75,
   "metadata": {},
   "outputs": [
    {
     "name": "stdout",
     "output_type": "stream",
     "text": [
      "x is less than 4 \n"
     ]
    }
   ],
   "source": [
    "#python conditionals - if elif esle statements \n",
    "\n",
    "x = 3\n",
    "if (x>5):\n",
    "    print(\"x is greater then 5 \")\n",
    "elif x<4:\n",
    "    print('x is less than 4 ')\n",
    "elif x <3:\n",
    "    print(\"x is less than 3 \")\n",
    "else:\n",
    "    print(\"nothing \")"
   ]
  },
  {
   "cell_type": "code",
   "execution_count": 77,
   "metadata": {},
   "outputs": [
    {
     "name": "stdout",
     "output_type": "stream",
     "text": [
      "x is equal to 3 \n"
     ]
    }
   ],
   "source": [
    "#short -hand if => you can put the if code block in one line as well \n",
    "x = 3 \n",
    "if x ==3:print('x is equal to 3 ') # if code block in one line "
   ]
  },
  {
   "cell_type": "code",
   "execution_count": 79,
   "metadata": {},
   "outputs": [
    {
     "name": "stdout",
     "output_type": "stream",
     "text": [
      "x is equal to 2 \n"
     ]
    }
   ],
   "source": [
    "#short hand if elif \n",
    "x = 2 \n",
    "print( \"x is equal to 2 \") if x == 2 else print(\"x is not equal to 2 \")\n"
   ]
  },
  {
   "cell_type": "code",
   "execution_count": 81,
   "metadata": {},
   "outputs": [
    {
     "name": "stdout",
     "output_type": "stream",
     "text": [
      "x is greater than 10\n",
      "and it is greater than 30 as well\n"
     ]
    }
   ],
   "source": [
    "#nested if - you can put if statements inside if statements , which are called nested if statements \n",
    "x = 35 # try with x = 20 , 35 \n",
    "if x> 10:\n",
    "    print('x is greater than 10')\n",
    "    if x<30:\n",
    "        print(\"but it is less than 30 \")\n",
    "    else:\n",
    "        print(\"and it is greater than 30 as well\")"
   ]
  },
  {
   "cell_type": "code",
   "execution_count": 83,
   "metadata": {},
   "outputs": [
    {
     "name": "stdout",
     "output_type": "stream",
     "text": [
      "0\n",
      "1\n",
      "2\n",
      "3\n",
      "4\n"
     ]
    }
   ],
   "source": [
    "#while loop \n",
    "x =0 \n",
    "while x <5 :\n",
    "    print(x) \n",
    "    x +=1 "
   ]
  },
  {
   "cell_type": "code",
   "execution_count": 84,
   "metadata": {},
   "outputs": [],
   "source": [
    "#break statment "
   ]
  },
  {
   "cell_type": "code",
   "execution_count": 86,
   "metadata": {},
   "outputs": [
    {
     "name": "stdout",
     "output_type": "stream",
     "text": [
      "0\n",
      "1\n",
      "2\n",
      "3\n"
     ]
    }
   ],
   "source": [
    "x = 0 \n",
    "while x <10 :\n",
    "    print(x) \n",
    "    x +=1 \n",
    "    if x ==4 :\n",
    "        break"
   ]
  },
  {
   "cell_type": "code",
   "execution_count": 91,
   "metadata": {},
   "outputs": [
    {
     "name": "stdout",
     "output_type": "stream",
     "text": [
      "3\n",
      "4\n",
      "5\n",
      "6\n",
      "7\n",
      "8\n",
      "9\n",
      "10\n"
     ]
    }
   ],
   "source": [
    "#continue statement \n",
    "x =0 \n",
    "while x <10 :\n",
    "    x +=1 \n",
    "    if x <3:\n",
    "        continue\n",
    "    print(x)\n",
    "     "
   ]
  }
 ],
 "metadata": {
  "kernelspec": {
   "display_name": "python_ml",
   "language": "python",
   "name": "python3"
  },
  "language_info": {
   "codemirror_mode": {
    "name": "ipython",
    "version": 3
   },
   "file_extension": ".py",
   "mimetype": "text/x-python",
   "name": "python",
   "nbconvert_exporter": "python",
   "pygments_lexer": "ipython3",
   "version": "3.12.1"
  }
 },
 "nbformat": 4,
 "nbformat_minor": 2
}
