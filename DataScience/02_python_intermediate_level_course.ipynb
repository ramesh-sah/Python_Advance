{
 "cells": [
  {
   "cell_type": "code",
   "execution_count": 33,
   "metadata": {},
   "outputs": [
    {
     "name": "stdout",
     "output_type": "stream",
     "text": [
      "[True, False, False, True, False]\n"
     ]
    }
   ],
   "source": [
    "#map() function  - the map() function * iterares through all the items  in the given iterable, and * executes the function we passed as an argument on each of them \n",
    "#map (function , iterable ) \n",
    "def starts_with_A(s):\n",
    "    return s[0]==\"A\"\n",
    "fruit = ['Apple',\"Banana\",'Pear','Apricot','Orange']\n",
    "map_object  = map(starts_with_A,fruit)\n",
    "print(list(map_object))"
   ]
  },
  {
   "cell_type": "code",
   "execution_count": 34,
   "metadata": {},
   "outputs": [
    {
     "name": "stdout",
     "output_type": "stream",
     "text": [
      "[True, False, False, True, False]\n"
     ]
    }
   ],
   "source": [
    "#using lambda function \n",
    "map_object = map(lambda s :s[0] ==\"A\",fruit)\n",
    "print(list(map_object))"
   ]
  },
  {
   "cell_type": "code",
   "execution_count": 35,
   "metadata": {},
   "outputs": [
    {
     "name": "stdout",
     "output_type": "stream",
     "text": [
      "['Apple', 'Apricot']\n"
     ]
    }
   ],
   "source": [
    "#filter() function \n",
    "def starts_with_A(s):\n",
    "    return s[0] ==\"A\" \n",
    "fruit = [\"Apple\",\"Banana\",\"pear\",\"Apricot\",\"orange\"]\n",
    "fruits_starting_with_A = filter(starts_with_A,fruit)\n",
    "print(list(fruits_starting_with_A))"
   ]
  },
  {
   "cell_type": "code",
   "execution_count": 36,
   "metadata": {},
   "outputs": [
    {
     "name": "stdout",
     "output_type": "stream",
     "text": [
      "<class '__main__.Student'>\n"
     ]
    },
    {
     "data": {
      "text/plain": [
       "False"
      ]
     },
     "execution_count": 36,
     "metadata": {},
     "output_type": "execute_result"
    }
   ],
   "source": [
    "class Student:\n",
    "    pass #pass means nothing \n",
    "student1 = Student() #instance of the class Student \n",
    "student2 = Student() #another instance of the class student \n",
    "print(type(student1)) #the type of student1 is class student \n",
    "student1 is student2"
   ]
  },
  {
   "cell_type": "code",
   "execution_count": 37,
   "metadata": {},
   "outputs": [
    {
     "name": "stdout",
     "output_type": "stream",
     "text": [
      "School of Data Science \n",
      "School of Data Science \n"
     ]
    }
   ],
   "source": [
    "class Student :\n",
    "    #class variable \n",
    "    school = \"School of Data Science \" \n",
    "student1 = Student() \n",
    "student2 = Student() \n",
    "print(student1.school)\n",
    "print(student2.school)"
   ]
  },
  {
   "cell_type": "code",
   "execution_count": 38,
   "metadata": {},
   "outputs": [
    {
     "name": "stdout",
     "output_type": "stream",
     "text": [
      "John 1\n",
      "Jane 2\n"
     ]
    }
   ],
   "source": [
    "class Student:\n",
    "    #constructor \n",
    "    def __init__(self,name, level):\n",
    "        #instance varaibles \n",
    "        self.name = name \n",
    "        self.level = level\n",
    "        \n",
    "        \n",
    "student1 = Student(\"John\", 1) \n",
    "student2 = Student(\"Jane\", 2) \n",
    "print(student1.name,student1.level) \n",
    "print(student2.name,student2.level)"
   ]
  },
  {
   "cell_type": "code",
   "execution_count": 39,
   "metadata": {},
   "outputs": [
    {
     "name": "stdout",
     "output_type": "stream",
     "text": [
      "katie Homes  studies in level1\n",
      "ram  studies in level2\n"
     ]
    }
   ],
   "source": [
    "class Student:\n",
    "    def __init__(self,name, level):\n",
    "        self.name=name\n",
    "        self.level=level\n",
    "    def __str__(self):\n",
    "        return '{} studies in level{}'.format(self.name,self.level)\n",
    "stu1 = Student(\"katie Homes \",1 )\n",
    "stu2 = Student(\"ram \",2)\n",
    "print(stu1)\n",
    "print(stu2)\n"
   ]
  },
  {
   "cell_type": "code",
   "execution_count": null,
   "metadata": {},
   "outputs": [],
   "source": []
  },
  {
   "cell_type": "markdown",
   "metadata": {},
   "source": []
  }
 ],
 "metadata": {
  "kernelspec": {
   "display_name": "python_ml",
   "language": "python",
   "name": "python3"
  },
  "language_info": {
   "codemirror_mode": {
    "name": "ipython",
    "version": 3
   },
   "file_extension": ".py",
   "mimetype": "text/x-python",
   "name": "python",
   "nbconvert_exporter": "python",
   "pygments_lexer": "ipython3",
   "version": "3.12.1"
  }
 },
 "nbformat": 4,
 "nbformat_minor": 2
}
