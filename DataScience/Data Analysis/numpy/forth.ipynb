{
 "cells": [
  {
   "cell_type": "code",
   "execution_count": 9,
   "metadata": {},
   "outputs": [],
   "source": [
    "\n",
    "import numpy as np\n"
   ]
  },
  {
   "cell_type": "code",
   "execution_count": 7,
   "metadata": {},
   "outputs": [
    {
     "name": "stdout",
     "output_type": "stream",
     "text": [
      "[30 40 60 20 10] [30 20 10 20 20]\n"
     ]
    }
   ],
   "source": [
    "arr1=np.array([30,40,60,20,10])\n",
    "arr2 =np.array([30,20,10,20,20])\n",
    "print(arr1,arr2)"
   ]
  },
  {
   "cell_type": "code",
   "execution_count": 8,
   "metadata": {},
   "outputs": [
    {
     "name": "stdout",
     "output_type": "stream",
     "text": [
      "[60 60 70 40 30]\n"
     ]
    }
   ],
   "source": [
    "print(np.add(arr1,arr2))"
   ]
  },
  {
   "cell_type": "code",
   "execution_count": 16,
   "metadata": {},
   "outputs": [
    {
     "name": "stdout",
     "output_type": "stream",
     "text": [
      "[[-10  10]\n",
      " [ 10 -10]]\n",
      "\n",
      "[[-10  10]\n",
      " [ 10 -10]]\n"
     ]
    }
   ],
   "source": [
    "a = np.array([[20,30],[20,30]])\n",
    "b = np.array([[30,20],[10,40]])\n",
    "print(a-b)\n",
    "print()\n",
    "print(np.subtract(a,b))\n",
    "\n"
   ]
  },
  {
   "cell_type": "code",
   "execution_count": 17,
   "metadata": {},
   "outputs": [
    {
     "name": "stdout",
     "output_type": "stream",
     "text": [
      "[[0.66666667 1.5       ]\n",
      " [2.         0.75      ]]\n",
      "[[0.66666667 1.5       ]\n",
      " [2.         0.75      ]]\n"
     ]
    }
   ],
   "source": [
    "print(a/b)\n",
    "print(np.divide(a,b))\n"
   ]
  },
  {
   "cell_type": "code",
   "execution_count": 18,
   "metadata": {},
   "outputs": [
    {
     "name": "stdout",
     "output_type": "stream",
     "text": [
      "[[ 8000 27000]\n",
      " [ 8000 27000]]\n"
     ]
    }
   ],
   "source": [
    "c = np.array([3])\n",
    "d  =np.power(a,c)\n",
    "print(d)\n"
   ]
  },
  {
   "cell_type": "code",
   "execution_count": 19,
   "metadata": {},
   "outputs": [
    {
     "name": "stdout",
     "output_type": "stream",
     "text": [
      "[[ 89.4427191  164.31676725]\n",
      " [ 89.4427191  164.31676725]]\n"
     ]
    }
   ],
   "source": [
    "print(np.sqrt(d))"
   ]
  },
  {
   "cell_type": "code",
   "execution_count": 20,
   "metadata": {},
   "outputs": [
    {
     "name": "stdout",
     "output_type": "stream",
     "text": [
      "[30, 40, 50, 3, 4, 5]\n"
     ]
    }
   ],
   "source": [
    "#combining and splitting arrays\n",
    "import numpy as np \n",
    "a = [30,40,50]\n",
    "b = [3,4,5]\n",
    "print(a+b)"
   ]
  },
  {
   "cell_type": "code",
   "execution_count": 26,
   "metadata": {},
   "outputs": [],
   "source": [
    "#concatenate\n",
    "arr1 = np.array([30,40,50])\n",
    "arr2 = np.array([4,5,'6'])\n",
    "\n",
    "\n"
   ]
  },
  {
   "cell_type": "code",
   "execution_count": 28,
   "metadata": {},
   "outputs": [
    {
     "name": "stdout",
     "output_type": "stream",
     "text": [
      "[20 30 50 60 40]\n"
     ]
    }
   ],
   "source": [
    "\n",
    "\n",
    "a = np.array([20,30,50,60])\n",
    "print(np.append(a,40))"
   ]
  },
  {
   "cell_type": "code",
   "execution_count": 30,
   "metadata": {},
   "outputs": [
    {
     "name": "stdout",
     "output_type": "stream",
     "text": [
      "[20 40 40 50 10 40]\n"
     ]
    }
   ],
   "source": [
    "b = np.array([[20,40],[40,50]])\n",
    "print(np.append(b,[10,40]))"
   ]
  },
  {
   "cell_type": "code",
   "execution_count": 31,
   "metadata": {},
   "outputs": [
    {
     "name": "stdout",
     "output_type": "stream",
     "text": [
      "[ 20  40  40 345  56  50]\n"
     ]
    }
   ],
   "source": [
    "print(np.insert(b,3,[345,56]))"
   ]
  },
  {
   "cell_type": "code",
   "execution_count": 33,
   "metadata": {},
   "outputs": [
    {
     "ename": "IndexError",
     "evalue": "index 2 is out of bounds for axis 0 with size 2",
     "output_type": "error",
     "traceback": [
      "\u001b[1;31m---------------------------------------------------------------------------\u001b[0m",
      "\u001b[1;31mIndexError\u001b[0m                                Traceback (most recent call last)",
      "Cell \u001b[1;32mIn[33], line 1\u001b[0m\n\u001b[1;32m----> 1\u001b[0m \u001b[38;5;28mprint\u001b[39m(np\u001b[38;5;241m.\u001b[39mdelete(b,\u001b[38;5;241m2\u001b[39m,axis \u001b[38;5;241m=\u001b[39m \u001b[38;5;241m0\u001b[39m))\n",
      "File \u001b[1;32m<__array_function__ internals>:200\u001b[0m, in \u001b[0;36mdelete\u001b[1;34m(*args, **kwargs)\u001b[0m\n",
      "File \u001b[1;32m~\\anaconda3\\Lib\\site-packages\\numpy\\lib\\function_base.py:5211\u001b[0m, in \u001b[0;36mdelete\u001b[1;34m(arr, obj, axis)\u001b[0m\n\u001b[0;32m   5208\u001b[0m \u001b[38;5;28;01mif\u001b[39;00m single_value:\n\u001b[0;32m   5209\u001b[0m     \u001b[38;5;66;03m# optimization for a single value\u001b[39;00m\n\u001b[0;32m   5210\u001b[0m     \u001b[38;5;28;01mif\u001b[39;00m (obj \u001b[38;5;241m<\u001b[39m \u001b[38;5;241m-\u001b[39mN \u001b[38;5;129;01mor\u001b[39;00m obj \u001b[38;5;241m>\u001b[39m\u001b[38;5;241m=\u001b[39m N):\n\u001b[1;32m-> 5211\u001b[0m         \u001b[38;5;28;01mraise\u001b[39;00m \u001b[38;5;167;01mIndexError\u001b[39;00m(\n\u001b[0;32m   5212\u001b[0m             \u001b[38;5;124m\"\u001b[39m\u001b[38;5;124mindex \u001b[39m\u001b[38;5;132;01m%i\u001b[39;00m\u001b[38;5;124m is out of bounds for axis \u001b[39m\u001b[38;5;132;01m%i\u001b[39;00m\u001b[38;5;124m with \u001b[39m\u001b[38;5;124m\"\u001b[39m\n\u001b[0;32m   5213\u001b[0m             \u001b[38;5;124m\"\u001b[39m\u001b[38;5;124msize \u001b[39m\u001b[38;5;132;01m%i\u001b[39;00m\u001b[38;5;124m\"\u001b[39m \u001b[38;5;241m%\u001b[39m (obj, axis, N))\n\u001b[0;32m   5214\u001b[0m     \u001b[38;5;28;01mif\u001b[39;00m (obj \u001b[38;5;241m<\u001b[39m \u001b[38;5;241m0\u001b[39m):\n\u001b[0;32m   5215\u001b[0m         obj \u001b[38;5;241m+\u001b[39m\u001b[38;5;241m=\u001b[39m N\n",
      "\u001b[1;31mIndexError\u001b[0m: index 2 is out of bounds for axis 0 with size 2"
     ]
    }
   ],
   "source": []
  },
  {
   "cell_type": "code",
   "execution_count": null,
   "metadata": {},
   "outputs": [],
   "source": []
  }
 ],
 "metadata": {
  "kernelspec": {
   "display_name": "Python 3 (ipykernel)",
   "language": "python",
   "name": "python3"
  },
  "language_info": {
   "codemirror_mode": {
    "name": "ipython",
    "version": 3
   },
   "file_extension": ".py",
   "mimetype": "text/x-python",
   "name": "python",
   "nbconvert_exporter": "python",
   "pygments_lexer": "ipython3",
   "version": "3.11.5"
  }
 },
 "nbformat": 4,
 "nbformat_minor": 2
}
