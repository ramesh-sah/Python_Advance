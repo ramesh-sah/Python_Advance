{
 "cells": [
  {
   "cell_type": "code",
   "execution_count": 9,
   "metadata": {},
   "outputs": [],
   "source": [
    "\n",
    "import numpy as np\n"
   ]
  },
  {
   "cell_type": "code",
   "execution_count": 7,
   "metadata": {},
   "outputs": [
    {
     "name": "stdout",
     "output_type": "stream",
     "text": [
      "[30 40 60 20 10] [30 20 10 20 20]\n"
     ]
    }
   ],
   "source": [
    "arr1=np.array([30,40,60,20,10])\n",
    "arr2 =np.array([30,20,10,20,20])\n",
    "print(arr1,arr2)"
   ]
  },
  {
   "cell_type": "code",
   "execution_count": 8,
   "metadata": {},
   "outputs": [
    {
     "name": "stdout",
     "output_type": "stream",
     "text": [
      "[60 60 70 40 30]\n"
     ]
    }
   ],
   "source": [
    "print(np.add(arr1,arr2))"
   ]
  },
  {
   "cell_type": "code",
   "execution_count": 16,
   "metadata": {},
   "outputs": [
    {
     "name": "stdout",
     "output_type": "stream",
     "text": [
      "[[-10  10]\n",
      " [ 10 -10]]\n",
      "\n",
      "[[-10  10]\n",
      " [ 10 -10]]\n"
     ]
    }
   ],
   "source": [
    "a = np.array([[20,30],[20,30]])\n",
    "b = np.array([[30,20],[10,40]])\n",
    "print(a-b)\n",
    "print()\n",
    "print(np.subtract(a,b))\n",
    "\n"
   ]
  },
  {
   "cell_type": "code",
   "execution_count": 17,
   "metadata": {},
   "outputs": [
    {
     "name": "stdout",
     "output_type": "stream",
     "text": [
      "[[0.66666667 1.5       ]\n",
      " [2.         0.75      ]]\n",
      "[[0.66666667 1.5       ]\n",
      " [2.         0.75      ]]\n"
     ]
    }
   ],
   "source": [
    "print(a/b)\n",
    "print(np.divide(a,b))\n"
   ]
  },
  {
   "cell_type": "code",
   "execution_count": 18,
   "metadata": {},
   "outputs": [
    {
     "name": "stdout",
     "output_type": "stream",
     "text": [
      "[[ 8000 27000]\n",
      " [ 8000 27000]]\n"
     ]
    }
   ],
   "source": [
    "c = np.array([3])\n",
    "d  =np.power(a,c)\n",
    "print(d)\n"
   ]
  },
  {
   "cell_type": "code",
   "execution_count": 19,
   "metadata": {},
   "outputs": [
    {
     "name": "stdout",
     "output_type": "stream",
     "text": [
      "[[ 89.4427191  164.31676725]\n",
      " [ 89.4427191  164.31676725]]\n"
     ]
    }
   ],
   "source": [
    "print(np.sqrt(d))"
   ]
  },
  {
   "cell_type": "code",
   "execution_count": null,
   "metadata": {},
   "outputs": [],
   "source": []
  }
 ],
 "metadata": {
  "kernelspec": {
   "display_name": "Python 3 (ipykernel)",
   "language": "python",
   "name": "python3"
  },
  "language_info": {
   "codemirror_mode": {
    "name": "ipython",
    "version": 3
   },
   "file_extension": ".py",
   "mimetype": "text/x-python",
   "name": "python",
   "nbconvert_exporter": "python",
   "pygments_lexer": "ipython3",
   "version": "3.11.5"
  }
 },
 "nbformat": 4,
 "nbformat_minor": 2
}
