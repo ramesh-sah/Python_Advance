{
 "cells": [
  {
   "cell_type": "code",
   "execution_count": 1,
   "metadata": {},
   "outputs": [
    {
     "name": "stderr",
     "output_type": "stream",
     "text": [
      "C:\\Users\\rs561\\AppData\\Local\\Temp\\ipykernel_5884\\2481379207.py:2: DeprecationWarning: \n",
      "Pyarrow will become a required dependency of pandas in the next major release of pandas (pandas 3.0),\n",
      "(to allow more performant data types, such as the Arrow string type, and better interoperability with other libraries)\n",
      "but was not found to be installed on your system.\n",
      "If this would cause problems for you,\n",
      "please provide us feedback at https://github.com/pandas-dev/pandas/issues/54466\n",
      "        \n",
      "  import pandas as pd\n"
     ]
    }
   ],
   "source": [
    "import numpy as np\n",
    "import pandas as pd \n",
    "import math\n",
    "import statistics as stats"
   ]
  },
  {
   "cell_type": "markdown",
   "metadata": {},
   "source": [
    "# Qu. 1"
   ]
  },
  {
   "cell_type": "code",
   "execution_count": 2,
   "metadata": {},
   "outputs": [],
   "source": [
    "\n",
    "import pandas as pd\n",
    "a = [10,15,12,18,20,15,22,18,25,30]\n",
    "data = np.array(a)\n",
    "df=pd.DataFrame(data)"
   ]
  },
  {
   "cell_type": "markdown",
   "metadata": {},
   "source": [
    "## Mean of the Given Data\n"
   ]
  },
  {
   "cell_type": "code",
   "execution_count": 13,
   "metadata": {},
   "outputs": [
    {
     "name": "stdout",
     "output_type": "stream",
     "text": [
      "the mean of the given data is  18.5\n"
     ]
    }
   ],
   "source": [
    "final_mean= np.mean(data)\n",
    "print(\"the mean of the given data is \", final_mean)\n",
    "\n"
   ]
  },
  {
   "cell_type": "markdown",
   "metadata": {},
   "source": [
    "## Median of the given data is :-\n",
    "\n"
   ]
  },
  {
   "cell_type": "code",
   "execution_count": 12,
   "metadata": {},
   "outputs": [
    {
     "name": "stdout",
     "output_type": "stream",
     "text": [
      "the median of the given data is  18.0\n"
     ]
    }
   ],
   "source": [
    "final_median =np.median(data)\n",
    "print(\"the median of the given data is \",final_median)\n"
   ]
  },
  {
   "cell_type": "markdown",
   "metadata": {},
   "source": [
    "# mode of the given data is :-"
   ]
  },
  {
   "cell_type": "code",
   "execution_count": 17,
   "metadata": {},
   "outputs": [
    {
     "name": "stdout",
     "output_type": "stream",
     "text": [
      "Requirement already satisfied: numpy in c:\\users\\rs561\\anaconda3\\envs\\python_ml\\lib\\site-packages (1.26.3)\n",
      "the mode of the given data is      0\n",
      "0  15\n",
      "1  18\n"
     ]
    }
   ],
   "source": [
    "\n",
    "final_mode = df.mode()\n",
    "print(\"the mode of the given data is \",final_mode)\n"
   ]
  },
  {
   "cell_type": "markdown",
   "metadata": {},
   "source": [
    "# Qu.2"
   ]
  },
  {
   "cell_type": "code",
   "execution_count": 18,
   "metadata": {},
   "outputs": [
    {
     "name": "stdout",
     "output_type": "stream",
     "text": [
      "Probability of drawing a spade: 0.25\n"
     ]
    }
   ],
   "source": [
    "import numpy as np\n",
    "\n",
    "# Total number of cards in a deck\n",
    "total_cards = 52\n",
    "\n",
    "# Number of spades in a deck\n",
    "spades = 13\n",
    "\n",
    "# Probability of drawing a spade\n",
    "probability_spade = spades / total_cards\n",
    "\n",
    "print(\"Probability of drawing a spade:\", probability_spade)"
   ]
  },
  {
   "cell_type": "markdown",
   "metadata": {},
   "source": [
    "# Qu.3 \n"
   ]
  },
  {
   "cell_type": "code",
   "execution_count": 22,
   "metadata": {},
   "outputs": [
    {
     "data": {
      "text/html": [
       "<div>\n",
       "<style scoped>\n",
       "    .dataframe tbody tr th:only-of-type {\n",
       "        vertical-align: middle;\n",
       "    }\n",
       "\n",
       "    .dataframe tbody tr th {\n",
       "        vertical-align: top;\n",
       "    }\n",
       "\n",
       "    .dataframe thead th {\n",
       "        text-align: right;\n",
       "    }\n",
       "</style>\n",
       "<table border=\"1\" class=\"dataframe\">\n",
       "  <thead>\n",
       "    <tr style=\"text-align: right;\">\n",
       "      <th></th>\n",
       "      <th>x</th>\n",
       "      <th>y</th>\n",
       "    </tr>\n",
       "  </thead>\n",
       "  <tbody>\n",
       "    <tr>\n",
       "      <th>x</th>\n",
       "      <td>1.0</td>\n",
       "      <td>1.0</td>\n",
       "    </tr>\n",
       "    <tr>\n",
       "      <th>y</th>\n",
       "      <td>1.0</td>\n",
       "      <td>1.0</td>\n",
       "    </tr>\n",
       "  </tbody>\n",
       "</table>\n",
       "</div>"
      ],
      "text/plain": [
       "     x    y\n",
       "x  1.0  1.0\n",
       "y  1.0  1.0"
      ]
     },
     "execution_count": 22,
     "metadata": {},
     "output_type": "execute_result"
    }
   ],
   "source": [
    "x = [1,2,3,4,5]\n",
    "y = [2,4,6,8,10]\n",
    "df =   pd.DataFrame({'x':x,'y':y})\n",
    "df.corr()"
   ]
  },
  {
   "cell_type": "markdown",
   "metadata": {},
   "source": []
  },
  {
   "cell_type": "code",
   "execution_count": 23,
   "metadata": {},
   "outputs": [
    {
     "name": "stdout",
     "output_type": "stream",
     "text": [
      "Percentage of data points within one standard deviation: 72.0\n"
     ]
    }
   ],
   "source": [
    "import numpy as np\n",
    "\n",
    "# Set the random seed for reproducibility\n",
    "np.random.seed(42)\n",
    "\n",
    "# Generate random sample of 100 data points from a normal distribution\n",
    "mean = 50\n",
    "std_dev = 10\n",
    "sample = np.random.normal(mean, std_dev, 100)\n",
    "\n",
    "# Calculate the lower and upper bounds for one standard deviation\n",
    "lower_bound = mean - std_dev\n",
    "upper_bound = mean + std_dev\n",
    "\n",
    "# Count the number of data points within one standard deviation\n",
    "within_std_dev = np.sum((sample >= lower_bound) & (sample <= upper_bound))\n",
    "\n",
    "# Calculate the percentage within one standard deviation\n",
    "percentage_within_std_dev = (within_std_dev / len(sample)) * 100\n",
    "\n",
    "print(\"Percentage of data points within one standard deviation:\", percentage_within_std_dev)\n",
    "\n",
    "\n"
   ]
  },
  {
   "cell_type": "markdown",
   "metadata": {},
   "source": [
    "# Qu.5\n"
   ]
  },
  {
   "cell_type": "markdown",
   "metadata": {},
   "source": []
  },
  {
   "cell_type": "code",
   "execution_count": 26,
   "metadata": {},
   "outputs": [
    {
     "name": "stdout",
     "output_type": "stream",
     "text": [
      "95% Confidence Interval: (23.385504791229735, 34.214495208770266)\n"
     ]
    }
   ],
   "source": [
    "import numpy as np\n",
    "from scipy import stats\n",
    "\n",
    "# Dataset\n",
    "data = [18, 20, 22, 25, 28, 30, 32, 35, 38, 40]\n",
    "\n",
    "# Calculate the mean and standard deviation of the dataset\n",
    "mean = np.mean(data)\n",
    "std_dev = np.std(data, ddof=1)\n",
    "\n",
    "# Calculate the sample size\n",
    "n = len(data)\n",
    "\n",
    "# Set the desired confidence level\n",
    "confidence = 0.95\n",
    "\n",
    "# Calculate the standard error\n",
    "standard_error = std_dev / np.sqrt(n)\n",
    "\n",
    "# Calculate the degrees of freedom\n",
    "df = n - 1\n",
    "\n",
    "# Calculate the t-value for the given confidence level and degrees of freedom\n",
    "t_value = stats.t.ppf((1 + confidence) / 2, df)\n",
    "\n",
    "# Calculate the margin of error\n",
    "margin_of_error = t_value * standard_error\n",
    "\n",
    "# Calculate the lower and upper bounds of the confidence interval\n",
    "lower_bound = mean - margin_of_error\n",
    "upper_bound = mean + margin_of_error\n",
    "\n",
    "# Print the confidence interval\n",
    "print(\"95% Confidence Interval:\", (lower_bound, upper_bound))"
   ]
  },
  {
   "cell_type": "markdown",
   "metadata": {},
   "source": [
    "# Qu.6"
   ]
  },
  {
   "cell_type": "code",
   "execution_count": 28,
   "metadata": {},
   "outputs": [
    {
     "name": "stdout",
     "output_type": "stream",
     "text": [
      "Range: 15\n",
      "Standard Deviation: 5.796550698475776\n"
     ]
    }
   ],
   "source": [
    "import numpy as np\n",
    "\n",
    "# Dataset\n",
    "data = [5, 8, 12, 15, 18, 20]\n",
    "\n",
    "# Calculate the range\n",
    "range_data = np.max(data) - np.min(data)\n",
    "\n",
    "# Calculate the standard deviation\n",
    "std_dev = np.std(data, ddof=1)\n",
    "\n",
    "print(\"Range:\", range_data)\n",
    "print(\"Standard Deviation:\", std_dev)"
   ]
  },
  {
   "cell_type": "markdown",
   "metadata": {},
   "source": [
    "# Qu.7\n"
   ]
  },
  {
   "cell_type": "code",
   "execution_count": 29,
   "metadata": {},
   "outputs": [
    {
     "name": "stdout",
     "output_type": "stream",
     "text": [
      "Chi-square test statistic: 4.5\n",
      "p-value: 0.21229028736013272\n"
     ]
    }
   ],
   "source": [
    "import numpy as np\n",
    "from scipy import stats\n",
    "\n",
    "# Observed and expected values\n",
    "observed_values = [25, 30, 15, 20]\n",
    "expected_values = [20, 25, 20, 25]\n",
    "\n",
    "# Perform chi-square test\n",
    "chi2, p_value = stats.chisquare(observed_values, expected_values)\n",
    "\n",
    "# Print the test statistic and p-value\n",
    "print(\"Chi-square test statistic:\", chi2)\n",
    "print(\"p-value:\", p_value)"
   ]
  }
 ],
 "metadata": {
  "kernelspec": {
   "display_name": "python_da",
   "language": "python",
   "name": "python3"
  },
  "language_info": {
   "codemirror_mode": {
    "name": "ipython",
    "version": 3
   },
   "file_extension": ".py",
   "mimetype": "text/x-python",
   "name": "python",
   "nbconvert_exporter": "python",
   "pygments_lexer": "ipython3",
   "version": "3.12.1"
  }
 },
 "nbformat": 4,
 "nbformat_minor": 2
}
