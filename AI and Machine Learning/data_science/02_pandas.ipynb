{
 "cells": [
  {
   "cell_type": "code",
   "execution_count": 15,
   "metadata": {},
   "outputs": [],
   "source": [
    "import pandas as pd \n",
    "pd.__version__\n",
    "#read the data \n",
    "df = pd.read_csv('./pakistan_population.csv')\n",
    "df.to_excel('./pakistan_population.xlsx')\n",
    "\n",
    "#reading an excel files\n",
    "df_excel = pd.read_excel('./pakistan_population.xlsx')\n",
    "# print(df)\n",
    "# df_excel.info\n",
    "# df_excel.head()\n",
    "# df_excel.tail(4)\n",
    "# df_excel.dtypes\n",
    "# df_excel.describe()\n"
   ]
  },
  {
   "cell_type": "markdown",
   "metadata": {},
   "source": [
    "Pandas function"
   ]
  },
  {
   "cell_type": "code",
   "execution_count": null,
   "metadata": {},
   "outputs": [],
   "source": []
  }
 ],
 "metadata": {
  "kernelspec": {
   "display_name": "python_ml",
   "language": "python",
   "name": "python3"
  },
  "language_info": {
   "codemirror_mode": {
    "name": "ipython",
    "version": 3
   },
   "file_extension": ".py",
   "mimetype": "text/x-python",
   "name": "python",
   "nbconvert_exporter": "python",
   "pygments_lexer": "ipython3",
   "version": "3.12.1"
  }
 },
 "nbformat": 4,
 "nbformat_minor": 2
}
