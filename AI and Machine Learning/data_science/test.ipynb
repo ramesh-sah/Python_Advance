{
 "cells": [
  {
   "cell_type": "code",
   "execution_count": 55,
   "metadata": {},
   "outputs": [
    {
     "name": "stdout",
     "output_type": "stream",
     "text": [
      "hello world\n"
     ]
    }
   ],
   "source": [
    "print(\"hello world\")"
   ]
  },
  {
   "cell_type": "code",
   "execution_count": 56,
   "metadata": {},
   "outputs": [
    {
     "name": "stdout",
     "output_type": "stream",
     "text": [
      "                     Address\n",
      "0      3rd Phoenix, NY 10195\n",
      "1  Maple San Diego, OH 10005\n",
      "2      2nd Houston, IL 10017\n",
      "3  Elm San Antonio, OH 10034\n",
      "4    Elm San Diego, NC 10074\n"
     ]
    }
   ],
   "source": [
    "import pandas as pd\n",
    "import random\n",
    "\n",
    "# List of street names\n",
    "streets = ['Main', '1st', '2nd', '3rd', 'Oak', 'Elm', 'Maple', 'Pine']\n",
    "\n",
    "# List of cities \n",
    "cities = ['New York', 'Los Angeles', 'Chicago', 'Houston', 'Phoenix', \n",
    "          'Philadelphia', 'San Antonio', 'San Diego']\n",
    "\n",
    "# List of states\n",
    "states = ['CA', 'TX', 'FL', 'NY', 'PA', 'IL', 'OH', 'NC']\n",
    "\n",
    "# List of zipcodes\n",
    "zipcodes = [str(x) for x in range(10000, 10200)] \n",
    "\n",
    "# Generate 200 random addresses\n",
    "addresses = []\n",
    "for i in range(200):\n",
    "    street = random.choice(streets)\n",
    "    city = random.choice(cities)\n",
    "    state = random.choice(states)\n",
    "    zipcode = random.choice(zipcodes)\n",
    "    address = f\"{street} {city}, {state} {zipcode}\"\n",
    "    addresses.append(address)\n",
    "\n",
    "# Create DataFrame\n",
    "df = pd.DataFrame({'Address': addresses})\n",
    "\n",
    "print(df.head())"
   ]
  },
  {
   "cell_type": "code",
   "execution_count": null,
   "metadata": {},
   "outputs": [],
   "source": []
  },
  {
   "cell_type": "code",
   "execution_count": null,
   "metadata": {},
   "outputs": [],
   "source": []
  },
  {
   "cell_type": "code",
   "execution_count": null,
   "metadata": {},
   "outputs": [],
   "source": []
  },
  {
   "cell_type": "code",
   "execution_count": null,
   "metadata": {},
   "outputs": [],
   "source": []
  }
 ],
 "metadata": {
  "kernelspec": {
   "display_name": "python_ml",
   "language": "python",
   "name": "python3"
  },
  "language_info": {
   "codemirror_mode": {
    "name": "ipython",
    "version": 3
   },
   "file_extension": ".py",
   "mimetype": "text/x-python",
   "name": "python",
   "nbconvert_exporter": "python",
   "pygments_lexer": "ipython3",
   "version": "3.12.1"
  }
 },
 "nbformat": 4,
 "nbformat_minor": 2
}
