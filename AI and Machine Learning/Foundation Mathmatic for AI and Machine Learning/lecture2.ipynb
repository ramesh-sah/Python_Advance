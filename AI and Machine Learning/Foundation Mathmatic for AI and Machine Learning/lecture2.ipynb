{
 "cells": [
  {
   "cell_type": "code",
   "execution_count": 1,
   "id": "45298228",
   "metadata": {},
   "outputs": [],
   "source": [
    "import numpy as np\n"
   ]
  },
  {
   "cell_type": "code",
   "execution_count": 4,
   "id": "f7525282",
   "metadata": {},
   "outputs": [
    {
     "name": "stdout",
     "output_type": "stream",
     "text": [
      "[[1 7]\n",
      " [2 1]\n",
      " [3 2]]\n"
     ]
    }
   ],
   "source": [
    "p= np.array([[1,7],[2,1],[3,2]])\n",
    "print(p)#we get 3x2 matrix"
   ]
  },
  {
   "cell_type": "code",
   "execution_count": 5,
   "id": "664930c3",
   "metadata": {},
   "outputs": [
    {
     "name": "stdout",
     "output_type": "stream",
     "text": [
      "[[ 1  1]\n",
      " [ 1 -1]\n",
      " [ 1  0]]\n"
     ]
    }
   ],
   "source": [
    "q=np.array([[1,1],[1,-1],[1,0]])\n",
    "print(q)"
   ]
  },
  {
   "cell_type": "code",
   "execution_count": 6,
   "id": "61d7f4c3",
   "metadata": {},
   "outputs": [
    {
     "name": "stdout",
     "output_type": "stream",
     "text": [
      "[[2 8]\n",
      " [3 0]\n",
      " [4 2]]\n"
     ]
    }
   ],
   "source": [
    "c1 = np.add(p,q) #additon of 2 matrix\n",
    "print(c1)"
   ]
  },
  {
   "cell_type": "code",
   "execution_count": 8,
   "id": "e0966e65",
   "metadata": {},
   "outputs": [
    {
     "name": "stdout",
     "output_type": "stream",
     "text": [
      "[[0 6]\n",
      " [1 2]\n",
      " [2 2]]\n"
     ]
    }
   ],
   "source": [
    "c2 = np.subtract(p,q) #substraction of 2 matrix\n",
    "print(c2)"
   ]
  },
  {
   "cell_type": "code",
   "execution_count": 10,
   "id": "66f98e09",
   "metadata": {},
   "outputs": [
    {
     "name": "stdout",
     "output_type": "stream",
     "text": [
      "[[2 1 2]\n",
      " [3 4 5]]\n"
     ]
    }
   ],
   "source": [
    "r = np.array([[2,1,2],[3,4,5]])\n",
    "print(r)"
   ]
  },
  {
   "cell_type": "code",
   "execution_count": 11,
   "id": "68e8e356",
   "metadata": {},
   "outputs": [
    {
     "name": "stdout",
     "output_type": "stream",
     "text": [
      "[[2 3 4 5]\n",
      " [2 3 5 6]\n",
      " [2 5 7 8]]\n"
     ]
    }
   ],
   "source": [
    "s = np.array([[2,3,4,5],[2,3,5,6],[2,5,7,8]])\n",
    "print(s)"
   ]
  },
  {
   "cell_type": "code",
   "execution_count": 12,
   "id": "9d40dab9",
   "metadata": {},
   "outputs": [
    {
     "name": "stdout",
     "output_type": "stream",
     "text": [
      "[[10 19 27 32]\n",
      " [24 46 67 79]]\n"
     ]
    }
   ],
   "source": [
    "c3=np.dot(r,s) #multiplication of 3 matrix\n",
    "print(c3) "
   ]
  },
  {
   "cell_type": "code",
   "execution_count": 13,
   "id": "23eb23a9",
   "metadata": {},
   "outputs": [
    {
     "name": "stdout",
     "output_type": "stream",
     "text": [
      "[[1 4]\n",
      " [2 4]]\n"
     ]
    }
   ],
   "source": [
    "t = np.array([[1,4],[2,4]])\n",
    "print(t) #here we get the 2x2 matrix\n"
   ]
  },
  {
   "cell_type": "code",
   "execution_count": 14,
   "id": "dd4f1d1f",
   "metadata": {},
   "outputs": [
    {
     "name": "stdout",
     "output_type": "stream",
     "text": [
      "-4.0\n"
     ]
    }
   ],
   "source": [
    "c4=np.linalg.det(t) #determinant of matrix t\n",
    "print(c4)"
   ]
  },
  {
   "cell_type": "code",
   "execution_count": 15,
   "id": "cbc68052",
   "metadata": {},
   "outputs": [
    {
     "name": "stdout",
     "output_type": "stream",
     "text": [
      "[[-1.    1.  ]\n",
      " [ 0.5  -0.25]]\n"
     ]
    }
   ],
   "source": [
    "c5 = np.linalg.inv(t) #inverse of matrix t \n",
    "print(c5)"
   ]
  },
  {
   "cell_type": "code",
   "execution_count": null,
   "id": "703519e6",
   "metadata": {},
   "outputs": [],
   "source": []
  }
 ],
 "metadata": {
  "kernelspec": {
   "display_name": "Python 3 (ipykernel)",
   "language": "python",
   "name": "python3"
  },
  "language_info": {
   "codemirror_mode": {
    "name": "ipython",
    "version": 3
   },
   "file_extension": ".py",
   "mimetype": "text/x-python",
   "name": "python",
   "nbconvert_exporter": "python",
   "pygments_lexer": "ipython3",
   "version": "3.11.5"
  }
 },
 "nbformat": 4,
 "nbformat_minor": 5
}
