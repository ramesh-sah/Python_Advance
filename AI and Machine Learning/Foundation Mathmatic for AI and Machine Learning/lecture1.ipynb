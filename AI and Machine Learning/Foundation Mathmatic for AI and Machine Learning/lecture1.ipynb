{
 "cells": [
  {
   "cell_type": "code",
   "execution_count": 2,
   "id": "c71929b6",
   "metadata": {},
   "outputs": [
    {
     "name": "stdout",
     "output_type": "stream",
     "text": [
      "[3 2 7]\n"
     ]
    }
   ],
   "source": [
    "import numpy as np\n",
    "v = np.array([1,-1,2])\n",
    "w = np.array([2,3,5])\n",
    "\n"
   ]
  },
  {
   "cell_type": "code",
   "execution_count": null,
   "id": "63290271",
   "metadata": {},
   "outputs": [
    {
     "name": "stdout",
     "output_type": "stream",
     "text": [
      "[3 2 7]\n"
     ]
    }
   ],
   "source": [
    "#addition of two vectos \n",
    "print(v+w)"
   ]
  },
  {
   "cell_type": "code",
   "execution_count": 7,
   "id": "aee45f16",
   "metadata": {},
   "outputs": [
    {
     "name": "stdout",
     "output_type": "stream",
     "text": [
      "[-1 -4 -3]\n"
     ]
    }
   ],
   "source": [
    "#substraction of two vectors\n",
    "print(v-w)"
   ]
  },
  {
   "cell_type": "code",
   "execution_count": 8,
   "id": "464c2160",
   "metadata": {},
   "outputs": [
    {
     "name": "stdout",
     "output_type": "stream",
     "text": [
      "[ 3 -3  6]\n"
     ]
    }
   ],
   "source": [
    "#scalar multiplication \n",
    "print(3*v)"
   ]
  },
  {
   "cell_type": "code",
   "execution_count": 9,
   "id": "e106b9de",
   "metadata": {},
   "outputs": [
    {
     "name": "stdout",
     "output_type": "stream",
     "text": [
      "2.449489742783178\n"
     ]
    }
   ],
   "source": [
    "#magnitude of vectors / length of vectors \n",
    "print(np.linalg.norm(v))"
   ]
  },
  {
   "cell_type": "code",
   "execution_count": 10,
   "id": "042fc5aa",
   "metadata": {},
   "outputs": [
    {
     "name": "stdout",
     "output_type": "stream",
     "text": [
      "9\n"
     ]
    }
   ],
   "source": [
    "#dot product of two vectors \n",
    "print(np.dot(v,w))"
   ]
  },
  {
   "cell_type": "code",
   "execution_count": null,
   "id": "45b2374c",
   "metadata": {},
   "outputs": [],
   "source": []
  }
 ],
 "metadata": {
  "kernelspec": {
   "display_name": "Python 3 (ipykernel)",
   "language": "python",
   "name": "python3"
  },
  "language_info": {
   "codemirror_mode": {
    "name": "ipython",
    "version": 3
   },
   "file_extension": ".py",
   "mimetype": "text/x-python",
   "name": "python",
   "nbconvert_exporter": "python",
   "pygments_lexer": "ipython3",
   "version": "3.11.4"
  }
 },
 "nbformat": 4,
 "nbformat_minor": 5
}
