{
 "cells": [
  {
   "cell_type": "code",
   "execution_count": null,
   "id": "1533cfc3",
   "metadata": {},
   "outputs": [],
   "source": [
    "print(\"Hello world\")\n"
   ]
  },
  {
   "cell_type": "code",
   "execution_count": 3,
   "id": "39b1a284",
   "metadata": {},
   "outputs": [],
   "source": [
    "#this is single line comment \n"
   ]
  },
  {
   "cell_type": "code",
   "execution_count": 1,
   "id": "b75dd310",
   "metadata": {},
   "outputs": [
    {
     "data": {
      "text/plain": [
       "' thi si s\\nthe multiline comment\\n'"
      ]
     },
     "execution_count": 1,
     "metadata": {},
     "output_type": "execute_result"
    }
   ],
   "source": [
    " ''' thi si s\n",
    " the multiline comment\n",
    " '''"
   ]
  },
  {
   "cell_type": "code",
   "execution_count": null,
   "id": "cb926a63",
   "metadata": {},
   "outputs": [],
   "source": []
  }
 ],
 "metadata": {
  "kernelspec": {
   "display_name": "Python 3 (ipykernel)",
   "language": "python",
   "name": "python3"
  },
  "language_info": {
   "codemirror_mode": {
    "name": "ipython",
    "version": 3
   },
   "file_extension": ".py",
   "mimetype": "text/x-python",
   "name": "python",
   "nbconvert_exporter": "python",
   "pygments_lexer": "ipython3",
   "version": "3.11.4"
  }
 },
 "nbformat": 4,
 "nbformat_minor": 5
}
